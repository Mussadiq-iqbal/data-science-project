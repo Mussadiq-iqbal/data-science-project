{
 "cells": [
  {
   "cell_type": "markdown",
   "id": "a904546f",
   "metadata": {},
   "source": [
    "# objectives :"
   ]
  },
  {
   "cell_type": "markdown",
   "id": "16b603a6",
   "metadata": {},
   "source": [
    "Data Science Tools and Ecosystem"
   ]
  },
  {
   "cell_type": "markdown",
   "id": "ef9efece",
   "metadata": {},
   "source": [
    "In this notebook, Data Science Tools and Ecosystem are summarized."
   ]
  },
  {
   "cell_type": "markdown",
   "id": "bc9ec3bf",
   "metadata": {},
   "source": [
    "Some of the popular languages that Data Scientists use are:\n",
    "1 : Python,\n",
    "2 : R,\n",
    "3 : C++"
   ]
  },
  {
   "cell_type": "markdown",
   "id": "225fbf9c",
   "metadata": {},
   "source": [
    "Some of the commonly used libraries used by Data Scientists include:\n",
    "1- Pandas,\n",
    "2- Numpy,\n",
    "3- sckit-learn"
   ]
  },
  {
   "cell_type": "markdown",
   "id": "256a7f68",
   "metadata": {},
   "source": [
    "# Data Science Tools"
   ]
  },
  {
   "cell_type": "markdown",
   "id": "b3ec6850",
   "metadata": {},
   "source": [
    "1 - Jupyter Notebooks"
   ]
  },
  {
   "cell_type": "markdown",
   "id": "c5074b94",
   "metadata": {},
   "source": [
    "2 - Apache Hadoop"
   ]
  },
  {
   "cell_type": "markdown",
   "id": "9a485a4d",
   "metadata": {},
   "source": [
    "3 - Apache Spark"
   ]
  },
  {
   "cell_type": "markdown",
   "id": "f1cc02a0",
   "metadata": {},
   "source": [
    "# Below are a few examples of evaluating arithmetic expressions in Python"
   ]
  },
  {
   "cell_type": "code",
   "execution_count": 1,
   "id": "53b6746f",
   "metadata": {},
   "outputs": [
    {
     "data": {
      "text/plain": [
       "17"
      ]
     },
     "execution_count": 1,
     "metadata": {},
     "output_type": "execute_result"
    }
   ],
   "source": [
    " #This a simple arithmetic expression to mutiply then add integers.\n",
    "(3*4)+5"
   ]
  },
  {
   "cell_type": "code",
   "execution_count": 4,
   "id": "3382e681",
   "metadata": {},
   "outputs": [
    {
     "name": "stdout",
     "output_type": "stream",
     "text": [
      "3.3333333333333335\n"
     ]
    }
   ],
   "source": [
    " #This will convert 200 minutes to hours by diving by 60.\n",
    "result = 200 / 60\n",
    "\n",
    "print(result)"
   ]
  },
  {
   "cell_type": "markdown",
   "id": "b3db0773",
   "metadata": {},
   "source": [
    "# Author"
   ]
  },
  {
   "cell_type": "markdown",
   "id": "b78ff46d",
   "metadata": {},
   "source": [
    "Mussadiq Iqbal"
   ]
  },
  {
   "cell_type": "code",
   "execution_count": null,
   "id": "aae2fb53",
   "metadata": {},
   "outputs": [],
   "source": []
  }
 ],
 "metadata": {
  "kernelspec": {
   "display_name": "Python 3 (ipykernel)",
   "language": "python",
   "name": "python3"
  },
  "language_info": {
   "codemirror_mode": {
    "name": "ipython",
    "version": 3
   },
   "file_extension": ".py",
   "mimetype": "text/x-python",
   "name": "python",
   "nbconvert_exporter": "python",
   "pygments_lexer": "ipython3",
   "version": "3.11.3"
  }
 },
 "nbformat": 4,
 "nbformat_minor": 5
}
